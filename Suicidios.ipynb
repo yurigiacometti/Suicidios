{
 "cells": [
  {
   "cell_type": "code",
   "execution_count": 5,
   "metadata": {
    "ExecuteTime": {
     "end_time": "2021-04-10T17:38:44.654885Z",
     "start_time": "2021-04-10T17:38:41.227534Z"
    }
   },
   "outputs": [],
   "source": [
    "# importar pacotes necessários\n",
    "import numpy as np\n",
    "import pandas as pd\n",
    "import matplotlib.pyplot as plt\n",
    "import seaborn as sns\n",
    "\n",
    "%matplotlib inline"
   ]
  },
  {
   "cell_type": "code",
   "execution_count": 2,
   "metadata": {
    "ExecuteTime": {
     "end_time": "2021-04-10T17:37:58.826360Z",
     "start_time": "2021-04-10T17:37:58.698697Z"
    }
   },
   "outputs": [],
   "source": [
    "df=pd.read_csv('Master.csv')"
   ]
  },
  {
   "cell_type": "code",
   "execution_count": 4,
   "metadata": {
    "ExecuteTime": {
     "end_time": "2021-04-10T17:38:12.021192Z",
     "start_time": "2021-04-10T17:38:11.961942Z"
    }
   },
   "outputs": [
    {
     "data": {
      "text/html": [
       "<div>\n",
       "<style scoped>\n",
       "    .dataframe tbody tr th:only-of-type {\n",
       "        vertical-align: middle;\n",
       "    }\n",
       "\n",
       "    .dataframe tbody tr th {\n",
       "        vertical-align: top;\n",
       "    }\n",
       "\n",
       "    .dataframe thead th {\n",
       "        text-align: right;\n",
       "    }\n",
       "</style>\n",
       "<table border=\"1\" class=\"dataframe\">\n",
       "  <thead>\n",
       "    <tr style=\"text-align: right;\">\n",
       "      <th></th>\n",
       "      <th>country</th>\n",
       "      <th>year</th>\n",
       "      <th>sex</th>\n",
       "      <th>age</th>\n",
       "      <th>suicides_no</th>\n",
       "      <th>population</th>\n",
       "      <th>suicides/100k pop</th>\n",
       "      <th>country-year</th>\n",
       "      <th>HDI for year</th>\n",
       "      <th>gdp_for_year ($)</th>\n",
       "      <th>gdp_per_capita ($)</th>\n",
       "      <th>generation</th>\n",
       "    </tr>\n",
       "  </thead>\n",
       "  <tbody>\n",
       "    <tr>\n",
       "      <th>0</th>\n",
       "      <td>Albania</td>\n",
       "      <td>1987</td>\n",
       "      <td>male</td>\n",
       "      <td>15-24 years</td>\n",
       "      <td>21</td>\n",
       "      <td>312900</td>\n",
       "      <td>6.71</td>\n",
       "      <td>Albania1987</td>\n",
       "      <td>NaN</td>\n",
       "      <td>2,156,624,900</td>\n",
       "      <td>796</td>\n",
       "      <td>Generation X</td>\n",
       "    </tr>\n",
       "    <tr>\n",
       "      <th>1</th>\n",
       "      <td>Albania</td>\n",
       "      <td>1987</td>\n",
       "      <td>male</td>\n",
       "      <td>35-54 years</td>\n",
       "      <td>16</td>\n",
       "      <td>308000</td>\n",
       "      <td>5.19</td>\n",
       "      <td>Albania1987</td>\n",
       "      <td>NaN</td>\n",
       "      <td>2,156,624,900</td>\n",
       "      <td>796</td>\n",
       "      <td>Silent</td>\n",
       "    </tr>\n",
       "    <tr>\n",
       "      <th>2</th>\n",
       "      <td>Albania</td>\n",
       "      <td>1987</td>\n",
       "      <td>female</td>\n",
       "      <td>15-24 years</td>\n",
       "      <td>14</td>\n",
       "      <td>289700</td>\n",
       "      <td>4.83</td>\n",
       "      <td>Albania1987</td>\n",
       "      <td>NaN</td>\n",
       "      <td>2,156,624,900</td>\n",
       "      <td>796</td>\n",
       "      <td>Generation X</td>\n",
       "    </tr>\n",
       "    <tr>\n",
       "      <th>3</th>\n",
       "      <td>Albania</td>\n",
       "      <td>1987</td>\n",
       "      <td>male</td>\n",
       "      <td>75+ years</td>\n",
       "      <td>1</td>\n",
       "      <td>21800</td>\n",
       "      <td>4.59</td>\n",
       "      <td>Albania1987</td>\n",
       "      <td>NaN</td>\n",
       "      <td>2,156,624,900</td>\n",
       "      <td>796</td>\n",
       "      <td>G.I. Generation</td>\n",
       "    </tr>\n",
       "    <tr>\n",
       "      <th>4</th>\n",
       "      <td>Albania</td>\n",
       "      <td>1987</td>\n",
       "      <td>male</td>\n",
       "      <td>25-34 years</td>\n",
       "      <td>9</td>\n",
       "      <td>274300</td>\n",
       "      <td>3.28</td>\n",
       "      <td>Albania1987</td>\n",
       "      <td>NaN</td>\n",
       "      <td>2,156,624,900</td>\n",
       "      <td>796</td>\n",
       "      <td>Boomers</td>\n",
       "    </tr>\n",
       "  </tbody>\n",
       "</table>\n",
       "</div>"
      ],
      "text/plain": [
       "   country  year     sex          age  suicides_no  population  \\\n",
       "0  Albania  1987    male  15-24 years           21      312900   \n",
       "1  Albania  1987    male  35-54 years           16      308000   \n",
       "2  Albania  1987  female  15-24 years           14      289700   \n",
       "3  Albania  1987    male    75+ years            1       21800   \n",
       "4  Albania  1987    male  25-34 years            9      274300   \n",
       "\n",
       "   suicides/100k pop country-year  HDI for year  gdp_for_year ($)   \\\n",
       "0               6.71  Albania1987           NaN      2,156,624,900   \n",
       "1               5.19  Albania1987           NaN      2,156,624,900   \n",
       "2               4.83  Albania1987           NaN      2,156,624,900   \n",
       "3               4.59  Albania1987           NaN      2,156,624,900   \n",
       "4               3.28  Albania1987           NaN      2,156,624,900   \n",
       "\n",
       "   gdp_per_capita ($)       generation  \n",
       "0                 796     Generation X  \n",
       "1                 796           Silent  \n",
       "2                 796     Generation X  \n",
       "3                 796  G.I. Generation  \n",
       "4                 796          Boomers  "
      ]
     },
     "execution_count": 4,
     "metadata": {},
     "output_type": "execute_result"
    }
   ],
   "source": [
    "df.head()"
   ]
  },
  {
   "cell_type": "raw",
   "metadata": {},
   "source": [
    "Dicionário de Variáveis\n",
    "Esse arquivo csv possui 12 colunas. São elas:\n",
    "\n",
    "country: país onde os dados foram registrados\n",
    "101 países\n",
    "year: ano em que os dados foram registrados\n",
    "1987 a 2016\n",
    "sex: sexo considerado no registro\n",
    "male - masculino\n",
    "female - feminino\n",
    "age: faixa etária considerada\n",
    "5-14 anos\n",
    "15-24 anos\n",
    "25-34 anos\n",
    "35-54 anos\n",
    "55-74 anos\n",
    "75+ anos\n",
    "suicides_no: número de suicídios\n",
    "population: população para o grupo\n",
    "suicides/100k pop: número de suicídios por 100 mil habitantes\n",
    "country_year: identificador contendo country + year\n",
    "HDI for year: Índice de Desenvolvimento Humano (IDH) para o ano\n",
    "gdp_for_year: Produto Interno Bruto (PIB) para o ano\n",
    "gdp_per_capita: Produto Interno Bruto (PIB) per capita"
   ]
  },
  {
   "cell_type": "code",
   "execution_count": 6,
   "metadata": {
    "ExecuteTime": {
     "end_time": "2021-04-10T17:39:37.480676Z",
     "start_time": "2021-04-10T17:39:37.475645Z"
    }
   },
   "outputs": [
    {
     "data": {
      "text/plain": [
       "(27820, 12)"
      ]
     },
     "execution_count": 6,
     "metadata": {},
     "output_type": "execute_result"
    }
   ],
   "source": [
    "df.shape"
   ]
  },
  {
   "cell_type": "code",
   "execution_count": 8,
   "metadata": {
    "ExecuteTime": {
     "end_time": "2021-04-10T17:41:27.474226Z",
     "start_time": "2021-04-10T17:41:27.434202Z"
    }
   },
   "outputs": [
    {
     "data": {
      "text/html": [
       "<div>\n",
       "<style scoped>\n",
       "    .dataframe tbody tr th:only-of-type {\n",
       "        vertical-align: middle;\n",
       "    }\n",
       "\n",
       "    .dataframe tbody tr th {\n",
       "        vertical-align: top;\n",
       "    }\n",
       "\n",
       "    .dataframe thead th {\n",
       "        text-align: right;\n",
       "    }\n",
       "</style>\n",
       "<table border=\"1\" class=\"dataframe\">\n",
       "  <thead>\n",
       "    <tr style=\"text-align: right;\">\n",
       "      <th></th>\n",
       "      <th>country</th>\n",
       "      <th>year</th>\n",
       "      <th>sex</th>\n",
       "      <th>age</th>\n",
       "      <th>suicides_no</th>\n",
       "      <th>population</th>\n",
       "      <th>suicides/100k pop</th>\n",
       "      <th>country-year</th>\n",
       "      <th>HDI for year</th>\n",
       "      <th>gdp_for_year ($)</th>\n",
       "      <th>gdp_per_capita ($)</th>\n",
       "      <th>generation</th>\n",
       "    </tr>\n",
       "  </thead>\n",
       "  <tbody>\n",
       "    <tr>\n",
       "      <th>4172</th>\n",
       "      <td>Brazil</td>\n",
       "      <td>1985</td>\n",
       "      <td>male</td>\n",
       "      <td>75+ years</td>\n",
       "      <td>129</td>\n",
       "      <td>840300</td>\n",
       "      <td>15.35</td>\n",
       "      <td>Brazil1985</td>\n",
       "      <td>0.576</td>\n",
       "      <td>222,942,790,435</td>\n",
       "      <td>1898</td>\n",
       "      <td>G.I. Generation</td>\n",
       "    </tr>\n",
       "    <tr>\n",
       "      <th>4173</th>\n",
       "      <td>Brazil</td>\n",
       "      <td>1985</td>\n",
       "      <td>male</td>\n",
       "      <td>55-74 years</td>\n",
       "      <td>535</td>\n",
       "      <td>5364900</td>\n",
       "      <td>9.97</td>\n",
       "      <td>Brazil1985</td>\n",
       "      <td>0.576</td>\n",
       "      <td>222,942,790,435</td>\n",
       "      <td>1898</td>\n",
       "      <td>G.I. Generation</td>\n",
       "    </tr>\n",
       "    <tr>\n",
       "      <th>4174</th>\n",
       "      <td>Brazil</td>\n",
       "      <td>1985</td>\n",
       "      <td>male</td>\n",
       "      <td>35-54 years</td>\n",
       "      <td>1011</td>\n",
       "      <td>11986300</td>\n",
       "      <td>8.43</td>\n",
       "      <td>Brazil1985</td>\n",
       "      <td>0.576</td>\n",
       "      <td>222,942,790,435</td>\n",
       "      <td>1898</td>\n",
       "      <td>Silent</td>\n",
       "    </tr>\n",
       "    <tr>\n",
       "      <th>4175</th>\n",
       "      <td>Brazil</td>\n",
       "      <td>1985</td>\n",
       "      <td>male</td>\n",
       "      <td>25-34 years</td>\n",
       "      <td>791</td>\n",
       "      <td>10762900</td>\n",
       "      <td>7.35</td>\n",
       "      <td>Brazil1985</td>\n",
       "      <td>0.576</td>\n",
       "      <td>222,942,790,435</td>\n",
       "      <td>1898</td>\n",
       "      <td>Boomers</td>\n",
       "    </tr>\n",
       "    <tr>\n",
       "      <th>4176</th>\n",
       "      <td>Brazil</td>\n",
       "      <td>1985</td>\n",
       "      <td>male</td>\n",
       "      <td>15-24 years</td>\n",
       "      <td>661</td>\n",
       "      <td>13834000</td>\n",
       "      <td>4.78</td>\n",
       "      <td>Brazil1985</td>\n",
       "      <td>0.576</td>\n",
       "      <td>222,942,790,435</td>\n",
       "      <td>1898</td>\n",
       "      <td>Generation X</td>\n",
       "    </tr>\n",
       "  </tbody>\n",
       "</table>\n",
       "</div>"
      ],
      "text/plain": [
       "     country  year   sex          age  suicides_no  population  \\\n",
       "4172  Brazil  1985  male    75+ years          129      840300   \n",
       "4173  Brazil  1985  male  55-74 years          535     5364900   \n",
       "4174  Brazil  1985  male  35-54 years         1011    11986300   \n",
       "4175  Brazil  1985  male  25-34 years          791    10762900   \n",
       "4176  Brazil  1985  male  15-24 years          661    13834000   \n",
       "\n",
       "      suicides/100k pop country-year  HDI for year  gdp_for_year ($)   \\\n",
       "4172              15.35   Brazil1985         0.576    222,942,790,435   \n",
       "4173               9.97   Brazil1985         0.576    222,942,790,435   \n",
       "4174               8.43   Brazil1985         0.576    222,942,790,435   \n",
       "4175               7.35   Brazil1985         0.576    222,942,790,435   \n",
       "4176               4.78   Brazil1985         0.576    222,942,790,435   \n",
       "\n",
       "      gdp_per_capita ($)       generation  \n",
       "4172                1898  G.I. Generation  \n",
       "4173                1898  G.I. Generation  \n",
       "4174                1898           Silent  \n",
       "4175                1898          Boomers  \n",
       "4176                1898     Generation X  "
      ]
     },
     "execution_count": 8,
     "metadata": {},
     "output_type": "execute_result"
    }
   ],
   "source": [
    "df_brazil=df[df['country']=='Brazil'].copy()\n",
    "df_brazil.head()"
   ]
  },
  {
   "cell_type": "code",
   "execution_count": 9,
   "metadata": {
    "ExecuteTime": {
     "end_time": "2021-04-10T17:41:32.674910Z",
     "start_time": "2021-04-10T17:41:32.666908Z"
    }
   },
   "outputs": [
    {
     "data": {
      "text/plain": [
       "(372, 12)"
      ]
     },
     "execution_count": 9,
     "metadata": {},
     "output_type": "execute_result"
    }
   ],
   "source": [
    "df_brazil.shape"
   ]
  },
  {
   "cell_type": "code",
   "execution_count": 10,
   "metadata": {
    "ExecuteTime": {
     "end_time": "2021-04-10T17:42:06.404935Z",
     "start_time": "2021-04-10T17:42:06.378008Z"
    }
   },
   "outputs": [
    {
     "data": {
      "text/plain": [
       "country                 0\n",
       "year                    0\n",
       "sex                     0\n",
       "age                     0\n",
       "suicides_no             0\n",
       "population              0\n",
       "suicides/100k pop       0\n",
       "country-year            0\n",
       "HDI for year          252\n",
       " gdp_for_year ($)       0\n",
       "gdp_per_capita ($)      0\n",
       "generation              0\n",
       "dtype: int64"
      ]
     },
     "execution_count": 10,
     "metadata": {},
     "output_type": "execute_result"
    }
   ],
   "source": [
    "df_brazil.isnull().sum()"
   ]
  },
  {
   "cell_type": "code",
   "execution_count": 11,
   "metadata": {
    "ExecuteTime": {
     "end_time": "2021-04-10T17:42:24.361134Z",
     "start_time": "2021-04-10T17:42:24.330253Z"
    }
   },
   "outputs": [
    {
     "data": {
      "text/plain": [
       "country                   0\n",
       "year                      0\n",
       "sex                       0\n",
       "age                       0\n",
       "suicides_no               0\n",
       "population                0\n",
       "suicides/100k pop         0\n",
       "country-year              0\n",
       "HDI for year          19456\n",
       " gdp_for_year ($)         0\n",
       "gdp_per_capita ($)        0\n",
       "generation                0\n",
       "dtype: int64"
      ]
     },
     "execution_count": 11,
     "metadata": {},
     "output_type": "execute_result"
    }
   ],
   "source": [
    "df.isnull().sum()"
   ]
  },
  {
   "cell_type": "code",
   "execution_count": 13,
   "metadata": {
    "ExecuteTime": {
     "end_time": "2021-04-10T17:43:05.130105Z",
     "start_time": "2021-04-10T17:43:05.123090Z"
    }
   },
   "outputs": [],
   "source": [
    "df_brazil.drop(['HDI for year'],axis=1,inplace=True)"
   ]
  },
  {
   "cell_type": "code",
   "execution_count": 14,
   "metadata": {
    "ExecuteTime": {
     "end_time": "2021-04-10T17:43:14.521226Z",
     "start_time": "2021-04-10T17:43:14.506146Z"
    }
   },
   "outputs": [
    {
     "data": {
      "text/plain": [
       "(372, 11)"
      ]
     },
     "execution_count": 14,
     "metadata": {},
     "output_type": "execute_result"
    }
   ],
   "source": [
    "df_brazil.shape"
   ]
  },
  {
   "cell_type": "code",
   "execution_count": 18,
   "metadata": {
    "ExecuteTime": {
     "end_time": "2021-04-10T17:48:12.369304Z",
     "start_time": "2021-04-10T17:48:11.938824Z"
    }
   },
   "outputs": [
    {
     "data": {
      "image/png": "[encoded data removed]",
      "text/plain": [
       "<Figure size 432x288 with 1 Axes>"
      ]
     },
     "metadata": {
      "needs_background": "light"
     },
     "output_type": "display_data"
    }
   ],
   "source": [
    "# pegar a media mundial e do Brasil em suicidios\n",
    "years=df_brazil['year'].unique()\n",
    "suicides_brazil_mean=df_brazil.groupby('year')['suicides/100k pop'].mean()\n",
    "suicides_world_mean=df.groupby('year')['suicides/100k pop'].mean()\n",
    "\n",
    "# como o Brasil nao tem 2016, vou eliminar do dataframe mundial essa entrada\n",
    "suicides_world_mean.drop(2016, inplace=True)\n",
    "\n",
    "# plotar lineplot comparativo entre Brasil e Mundo\n",
    "ax=sns.lineplot(x=years,y=suicides_brazil_mean,label='Brasil')\n",
    "ax=sns.lineplot(x=years,y=suicides_world_mean,label='Mundo')\n",
    "plt.legend(title='Taxa de Suicidio')\n",
    "plt.show()"
   ]
  },
  {
   "cell_type": "code",
   "execution_count": 21,
   "metadata": {
    "ExecuteTime": {
     "end_time": "2021-04-10T17:51:48.840754Z",
     "start_time": "2021-04-10T17:51:48.794557Z"
    }
   },
   "outputs": [
    {
     "data": {
      "text/html": [
       "<div>\n",
       "<style scoped>\n",
       "    .dataframe tbody tr th:only-of-type {\n",
       "        vertical-align: middle;\n",
       "    }\n",
       "\n",
       "    .dataframe tbody tr th {\n",
       "        vertical-align: top;\n",
       "    }\n",
       "\n",
       "    .dataframe thead th {\n",
       "        text-align: right;\n",
       "    }\n",
       "</style>\n",
       "<table border=\"1\" class=\"dataframe\">\n",
       "  <thead>\n",
       "    <tr style=\"text-align: right;\">\n",
       "      <th>age</th>\n",
       "      <th>5-14 years</th>\n",
       "      <th>15-24 years</th>\n",
       "      <th>25-34 years</th>\n",
       "      <th>35-54 years</th>\n",
       "      <th>55-74 years</th>\n",
       "      <th>75+ years</th>\n",
       "    </tr>\n",
       "    <tr>\n",
       "      <th>year</th>\n",
       "      <th></th>\n",
       "      <th></th>\n",
       "      <th></th>\n",
       "      <th></th>\n",
       "      <th></th>\n",
       "      <th></th>\n",
       "    </tr>\n",
       "  </thead>\n",
       "  <tbody>\n",
       "    <tr>\n",
       "      <th>1985</th>\n",
       "      <td>38.0</td>\n",
       "      <td>470.5</td>\n",
       "      <td>530.0</td>\n",
       "      <td>653.5</td>\n",
       "      <td>341.5</td>\n",
       "      <td>80.5</td>\n",
       "    </tr>\n",
       "    <tr>\n",
       "      <th>1986</th>\n",
       "      <td>31.0</td>\n",
       "      <td>508.0</td>\n",
       "      <td>505.5</td>\n",
       "      <td>651.0</td>\n",
       "      <td>372.0</td>\n",
       "      <td>68.0</td>\n",
       "    </tr>\n",
       "    <tr>\n",
       "      <th>1987</th>\n",
       "      <td>33.5</td>\n",
       "      <td>502.0</td>\n",
       "      <td>565.5</td>\n",
       "      <td>724.5</td>\n",
       "      <td>422.0</td>\n",
       "      <td>88.5</td>\n",
       "    </tr>\n",
       "    <tr>\n",
       "      <th>1988</th>\n",
       "      <td>30.0</td>\n",
       "      <td>472.0</td>\n",
       "      <td>557.5</td>\n",
       "      <td>724.0</td>\n",
       "      <td>356.0</td>\n",
       "      <td>93.5</td>\n",
       "    </tr>\n",
       "    <tr>\n",
       "      <th>1989</th>\n",
       "      <td>31.5</td>\n",
       "      <td>491.5</td>\n",
       "      <td>569.0</td>\n",
       "      <td>692.5</td>\n",
       "      <td>354.5</td>\n",
       "      <td>92.5</td>\n",
       "    </tr>\n",
       "  </tbody>\n",
       "</table>\n",
       "</div>"
      ],
      "text/plain": [
       "age   5-14 years  15-24 years  25-34 years  35-54 years  55-74 years  \\\n",
       "year                                                                   \n",
       "1985        38.0        470.5        530.0        653.5        341.5   \n",
       "1986        31.0        508.0        505.5        651.0        372.0   \n",
       "1987        33.5        502.0        565.5        724.5        422.0   \n",
       "1988        30.0        472.0        557.5        724.0        356.0   \n",
       "1989        31.5        491.5        569.0        692.5        354.5   \n",
       "\n",
       "age   75+ years  \n",
       "year             \n",
       "1985       80.5  \n",
       "1986       68.0  \n",
       "1987       88.5  \n",
       "1988       93.5  \n",
       "1989       92.5  "
      ]
     },
     "execution_count": 21,
     "metadata": {},
     "output_type": "execute_result"
    }
   ],
   "source": [
    "# criar uma tabela dinâmica\n",
    "\n",
    "table=pd.pivot_table(df_brazil,values='suicides_no', index=['year'], columns=['age'])\n",
    "\n",
    "# reordenar as tableas para deixar em ordem crescente\n",
    "column_order = ['5-14 years', '15-24 years', '25-34 years', '35-54 years', '55-74 years', '75+ years']\n",
    "table = table.reindex(column_order, axis=1)\n",
    "\n",
    "table.head()"
   ]
  },
  {
   "cell_type": "code",
   "execution_count": 23,
   "metadata": {
    "ExecuteTime": {
     "end_time": "2021-04-10T17:52:46.049706Z",
     "start_time": "2021-04-10T17:52:45.040617Z"
    }
   },
   "outputs": [
    {
     "data": {
      "text/plain": [
       "<matplotlib.legend.Legend at 0x14df24089d0>"
      ]
     },
     "execution_count": 23,
     "metadata": {},
     "output_type": "execute_result"
    },
    {
     "data": {
      "image/png": "[encoded data removed]",
      "text/plain": [
       "<Figure size 1152x576 with 1 Axes>"
      ]
     },
     "metadata": {
      "needs_background": "light"
     },
     "output_type": "display_data"
    }
   ],
   "source": [
    "# plotar a pivot table das faixas etárias\n",
    "table.plot.bar(stacked=True,figsize=(16,8))\n",
    "plt.legend(title='idade')\n"
   ]
  },
  {
   "cell_type": "code",
   "execution_count": 26,
   "metadata": {
    "ExecuteTime": {
     "end_time": "2021-04-10T17:53:59.869385Z",
     "start_time": "2021-04-10T17:53:59.849442Z"
    }
   },
   "outputs": [
    {
     "data": {
      "text/plain": [
       "age\n",
       "5-14 years     0.012094\n",
       "15-24 years    0.159993\n",
       "25-34 years    0.211681\n",
       "35-54 years    0.371585\n",
       "55-74 years    0.194571\n",
       "75+ years      0.050076\n",
       "Name: 2015, dtype: float64"
      ]
     },
     "execution_count": 26,
     "metadata": {},
     "output_type": "execute_result"
    }
   ],
   "source": [
    "# estatística de suicídios por faixa etária\n",
    "\n",
    "table[['25-34 years']].loc[2015]\n",
    "table.loc[2015] / table.loc[2015].sum()"
   ]
  },
  {
   "cell_type": "code",
   "execution_count": 27,
   "metadata": {
    "ExecuteTime": {
     "end_time": "2021-04-10T17:57:08.779762Z",
     "start_time": "2021-04-10T17:57:08.545986Z"
    }
   },
   "outputs": [
    {
     "data": {
      "image/png": "[encoded data removed]",
      "text/plain": [
       "<Figure size 432x288 with 1 Axes>"
      ]
     },
     "metadata": {},
     "output_type": "display_data"
    }
   ],
   "source": [
    "# extrair valores entre homens e mulheres\n",
    "homens_mulheres=df_brazil.groupby('sex').suicides_no.sum()/df_brazil.groupby('sex').suicides_no.sum().sum()\n",
    "# plotar o gráfico de pizza\n",
    "plt.pie(homens_mulheres, labels=['mulheres', 'homens'], autopct='%1.1f%%', shadow=True);"
   ]
  },
  {
   "cell_type": "code",
   "execution_count": 28,
   "metadata": {
    "ExecuteTime": {
     "end_time": "2021-04-10T17:58:01.963775Z",
     "start_time": "2021-04-10T17:58:01.199818Z"
    }
   },
   "outputs": [
    {
     "data": {
      "image/png": "[encoded data removed]",
      "text/plain": [
       "<Figure size 432x288 with 2 Axes>"
      ]
     },
     "metadata": {
      "needs_background": "light"
     },
     "output_type": "display_data"
    }
   ],
   "source": [
    "corr=df_brazil.corr()\n",
    "sns.heatmap(corr, cmap='RdBu', fmt='.2f', square=True, linecolor='white', annot=True);"
   ]
  },
  {
   "cell_type": "code",
   "execution_count": null,
   "metadata": {},
   "outputs": [],
   "source": []
  }
 ],
 "metadata": {
  "kernelspec": {
   "display_name": "Python 3",
   "language": "python",
   "name": "python3"
  },
  "language_info": {
   "codemirror_mode": {
    "name": "ipython",
    "version": 3
   },
   "file_extension": ".py",
   "mimetype": "text/x-python",
   "name": "python",
   "nbconvert_exporter": "python",
   "pygments_lexer": "ipython3",
   "version": "3.8.5"
  }
 },
 "nbformat": 4,
 "nbformat_minor": 4
}
